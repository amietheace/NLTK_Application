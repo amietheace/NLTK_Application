{
 "cells": [
  {
   "cell_type": "code",
   "execution_count": 1,
   "metadata": {},
   "outputs": [],
   "source": [
    "import re"
   ]
  },
  {
   "cell_type": "markdown",
   "metadata": {},
   "source": [
    "The most common uses of regular expressions are:\n",
    "\n",
    "    1. Search a string (search and match)\n",
    "    2. Finding a string (findall)\n",
    "    3. Break string into a sub strings (split)\n",
    "    4. Replace part of a string (sub)\n",
    "\n",
    "\n",
    "The 're' package provides multiple methods to perform queries on an input string. Here are the most commonly used methos:\n",
    "  1. re.match()\n",
    "  2. re.search()\n",
    "  3. re.findall()\n",
    "  4. re.split()\n",
    "  5. re.sub()\n",
    "  6. re.compile()\n",
    "  \n",
    "\n",
    "### re.match(pattern, string): \n",
    "This method finds match if it occurs at start of the string."
   ]
  },
  {
   "cell_type": "code",
   "execution_count": 2,
   "metadata": {},
   "outputs": [
    {
     "name": "stdout",
     "output_type": "stream",
     "text": [
      "<re.Match object; span=(0, 2), match='AV'>\n"
     ]
    }
   ],
   "source": [
    "result = re.match(r'AV', 'AV Avishek Benarji')\n",
    "print(result)"
   ]
  },
  {
   "cell_type": "markdown",
   "metadata": {},
   "source": [
    "It shows that the pattern match has been found. \n",
    "\n",
    "TO print the matching string we'll use method group."
   ]
  },
  {
   "cell_type": "code",
   "execution_count": 3,
   "metadata": {},
   "outputs": [
    {
     "name": "stdout",
     "output_type": "stream",
     "text": [
      "AV\n"
     ]
    }
   ],
   "source": [
    "result = re.match(r'AV', 'AV Avishek Benarji')\n",
    "print(result.group(0))"
   ]
  },
  {
   "cell_type": "markdown",
   "metadata": {},
   "source": [
    "Let's now find 'Avishek' in the given string. Here we see that string is not starting with 'AV' so it should return no match"
   ]
  },
  {
   "cell_type": "code",
   "execution_count": 4,
   "metadata": {},
   "outputs": [
    {
     "name": "stdout",
     "output_type": "stream",
     "text": [
      "None\n"
     ]
    }
   ],
   "source": [
    "result = re.match(r'Avishek', 'AV Avishek Benarji')\n",
    "print(result)"
   ]
  },
  {
   "cell_type": "markdown",
   "metadata": {},
   "source": [
    "There are methods like start() and end() to know start and end position of matching pattrn in the string"
   ]
  },
  {
   "cell_type": "code",
   "execution_count": 5,
   "metadata": {},
   "outputs": [
    {
     "name": "stdout",
     "output_type": "stream",
     "text": [
      "0\n",
      "2\n"
     ]
    }
   ],
   "source": [
    "result = re.match(r'AV', 'AV Avishek Benarji')\n",
    "print(result.start())\n",
    "print(result.end())"
   ]
  },
  {
   "cell_type": "markdown",
   "metadata": {},
   "source": [
    "### re.search(pattern, string):\n",
    "\n",
    "\n",
    "It is similar to match() but it doesn't restrict us to find matches at the begining of the string only.search() method is able to find a pattern from any position of the string but it only returns the first occurrence of the search pattern."
   ]
  },
  {
   "cell_type": "code",
   "execution_count": 7,
   "metadata": {},
   "outputs": [
    {
     "name": "stdout",
     "output_type": "stream",
     "text": [
      "Avishek\n"
     ]
    }
   ],
   "source": [
    "result = re.search(r'Avishek', 'AV Avishek Benarji Avishek')\n",
    "print(result.group(0))"
   ]
  },
  {
   "cell_type": "code",
   "execution_count": 8,
   "metadata": {},
   "outputs": [
    {
     "name": "stdout",
     "output_type": "stream",
     "text": [
      "3\n",
      "10\n"
     ]
    }
   ],
   "source": [
    "result = re.search(r'Avishek', 'AV Avishek Benarji Avishek')\n",
    "print(result.start())\n",
    "print(result.end())"
   ]
  },
  {
   "cell_type": "markdown",
   "metadata": {},
   "source": [
    "### re.findall(pattern, string):\n",
    "\n",
    "It helps to get a list of all matching patterns. It has no constraints of searching from start or end."
   ]
  },
  {
   "cell_type": "code",
   "execution_count": 10,
   "metadata": {},
   "outputs": [
    {
     "name": "stdout",
     "output_type": "stream",
     "text": [
      "['Avishek', 'Avishek']\n"
     ]
    }
   ],
   "source": [
    "result = re.findall(r'Avishek', 'AV Avishek Benarji Avishek')\n",
    "print(result)"
   ]
  },
  {
   "cell_type": "markdown",
   "metadata": {},
   "source": [
    "### re.split(pattern, string, [maxsplit=0]):\n",
    "\n",
    "This methods helps to split string by the occurrences of given pattern."
   ]
  },
  {
   "cell_type": "code",
   "execution_count": 11,
   "metadata": {},
   "outputs": [
    {
     "data": {
      "text/plain": [
       "['V', 'k', 'ngs']"
      ]
     },
     "execution_count": 11,
     "metadata": {},
     "output_type": "execute_result"
    }
   ],
   "source": [
    "result=re.split(r'i','Vikings')\n",
    "result"
   ]
  },
  {
   "cell_type": "markdown",
   "metadata": {},
   "source": [
    "but if we give value to maxsplit, it will split the string. "
   ]
  },
  {
   "cell_type": "code",
   "execution_count": 12,
   "metadata": {},
   "outputs": [
    {
     "data": {
      "text/plain": [
       "['V', 'kings']"
      ]
     },
     "execution_count": 12,
     "metadata": {},
     "output_type": "execute_result"
    }
   ],
   "source": [
    "result=re.split(r'i','Vikings',maxsplit=1)\n",
    "result"
   ]
  },
  {
   "cell_type": "markdown",
   "metadata": {},
   "source": [
    "### re.sub(pattern, repl, string):\n",
    "\n",
    "It helps to search a pattern and replace with a new sub string. If the pattern is not found, string is returned unchanged."
   ]
  },
  {
   "cell_type": "code",
   "execution_count": 13,
   "metadata": {},
   "outputs": [
    {
     "data": {
      "text/plain": [
       "'Bangalore is the largest IT hub of the World'"
      ]
     },
     "execution_count": 13,
     "metadata": {},
     "output_type": "execute_result"
    }
   ],
   "source": [
    "result=re.sub(r'India','the World','Bangalore is the largest IT hub of India')\n",
    "result"
   ]
  },
  {
   "cell_type": "markdown",
   "metadata": {},
   "source": [
    "### re.compile(pattern, repl, string):\n",
    "\n",
    "We can combine a regular expression pattern into pattern objects, which can be used for pattern matching. It also helps to search a pattern again without rewriting it."
   ]
  },
  {
   "cell_type": "code",
   "execution_count": 15,
   "metadata": {},
   "outputs": [
    {
     "name": "stdout",
     "output_type": "stream",
     "text": [
      "['Av', 'Av']\n"
     ]
    }
   ],
   "source": [
    "import re\n",
    "pattern=re.compile('Av')\n",
    "result=pattern.findall('AV Avishek kumar Avishek')\n",
    "print(result)"
   ]
  },
  {
   "cell_type": "code",
   "execution_count": 16,
   "metadata": {},
   "outputs": [],
   "source": [
    "result2=pattern.findall('Avishek is a good guy, Avishek, Avishek')"
   ]
  },
  {
   "cell_type": "code",
   "execution_count": 17,
   "metadata": {},
   "outputs": [
    {
     "name": "stdout",
     "output_type": "stream",
     "text": [
      "['Av', 'Av', 'Av']\n"
     ]
    }
   ],
   "source": [
    "print(result2)"
   ]
  },
  {
   "cell_type": "markdown",
   "metadata": {},
   "source": [
    "Regular expressions can specify patterns, not just fixed characters. Here are the most commonly used operators that helps to generate an expression to represent required characters in a string or file. It is commonly used in web scrapping and  text mining to extract required information.\n",
    "Operators \tDescription\n",
    "\n",
    "\n",
    ". \t Matches with any single character except newline.\n",
    "\n",
    "? \t match 0 or 1 occurrence of the pattern to its left\n",
    "\n",
    "+ \t 1 or more occurrences of the pattern to its left\n",
    "\n",
    "* \t 0 or more occurrences of the pattern to its left\n",
    "\n",
    "\\w \t Matches with a alphanumeric character whereas \\W (upper case W) matches non alphanumeric character.\n",
    "\n",
    "\\d \t  Matches with digits [0-9] and /D (upper case D) matches with non-digits.\n",
    "\n",
    "\\s \t Matches with a single white space character (space, newline, return, tab, form) and \\S (upper case S) matches any non-white space character.\n",
    "\n",
    "\\b \t boundary between word and non-word and /B is opposite of /b\n",
    "\n",
    "[..] \t Matches any single character in a square bracket and [^..] matches any single character not in square bracket\n",
    "\n",
    "\\ \t It is used for special meaning characters like \\. to match a period or \\+ for plus sign.\n",
    "\n",
    "\n",
    "{n,m} \t Matches at least n and at most m occurrences of preceding expression if we write it as {,m} then it will return at least any minimum occurrence to max m preceding expression.\n",
    "\n",
    "a| b \t Matches either a or b\n",
    "\n",
    "( ) \tGroups regular expressions and returns matched text\n",
    "\n",
    "\\t, \\n, \\r \t Matches tab, newline, return"
   ]
  },
  {
   "cell_type": "markdown",
   "metadata": {},
   "source": [
    "### Problem 1: Return the first word of a given string"
   ]
  },
  {
   "cell_type": "code",
   "execution_count": 2,
   "metadata": {},
   "outputs": [
    {
     "name": "stdout",
     "output_type": "stream",
     "text": [
      "['I', ' ', 'a', 'm', ' ', ' ', 'a', ' ', 's', 't', 'u', 'd', 'e', 'n', 't', ' ', 'o', 'f', ' ', 'D', 'a', 't', 'a', '-', 'S', 'c', 'i', 'e', 'n', 'c']\n"
     ]
    }
   ],
   "source": [
    "import re\n",
    "result=re.findall(r'.','I am  a student of Data-Scienc')\n",
    "print(result)"
   ]
  },
  {
   "cell_type": "markdown",
   "metadata": {},
   "source": [
    "Above, space is also extracted, now to avoid it use “\\w” instead of “.“."
   ]
  },
  {
   "cell_type": "code",
   "execution_count": 3,
   "metadata": {},
   "outputs": [
    {
     "name": "stdout",
     "output_type": "stream",
     "text": [
      "['I', 'a', 'm', 'a', 's', 't', 'u', 'd', 'e', 'n', 't', 'o', 'f', 'D', 'a', 't', 'a', 'S', 'c', 'i', 'e', 'n', 'c']\n"
     ]
    }
   ],
   "source": [
    "result=re.findall(r'\\w','I am  a student of Data-Scienc')\n",
    "print(result)"
   ]
  },
  {
   "cell_type": "markdown",
   "metadata": {},
   "source": [
    "Extract each word "
   ]
  },
  {
   "cell_type": "code",
   "execution_count": 4,
   "metadata": {},
   "outputs": [
    {
     "name": "stdout",
     "output_type": "stream",
     "text": [
      "['I', '', 'am', '', '', 'a', '', 'student', '', 'of', '', 'Data', '', 'Scienc', '']\n"
     ]
    }
   ],
   "source": [
    "result=re.findall(r'\\w*','I am  a student of Data-Scienc')\n",
    "print(result)"
   ]
  },
  {
   "cell_type": "markdown",
   "metadata": {},
   "source": [
    "Again, it is returning space as a word because “*” returns zero or more matches of pattern to its left. Now to remove spaces we will go with “+“"
   ]
  },
  {
   "cell_type": "code",
   "execution_count": 5,
   "metadata": {},
   "outputs": [
    {
     "name": "stdout",
     "output_type": "stream",
     "text": [
      "['I', 'am', 'a', 'student', 'of', 'Data', 'Scienc']\n"
     ]
    }
   ],
   "source": [
    "result=re.findall(r'\\w+','I am  a student of Data-Scienc')\n",
    "print(result)"
   ]
  },
  {
   "cell_type": "markdown",
   "metadata": {},
   "source": [
    "Extract each word (using “^“)"
   ]
  },
  {
   "cell_type": "code",
   "execution_count": 7,
   "metadata": {},
   "outputs": [
    {
     "name": "stdout",
     "output_type": "stream",
     "text": [
      "['I']\n"
     ]
    }
   ],
   "source": [
    "result=re.findall(r'^\\w','I am  a student of Data-Scienc')\n",
    "print(result)"
   ]
  },
  {
   "cell_type": "code",
   "execution_count": 8,
   "metadata": {},
   "outputs": [
    {
     "name": "stdout",
     "output_type": "stream",
     "text": [
      "['Scienc']\n"
     ]
    }
   ],
   "source": [
    "\"\"\"If we will use “$” instead of “^”, it will return the word from the end of the string. Let’s look at it.\"\"\"\n",
    "\n",
    "result=re.findall(r'\\w+$','I am  a student of Data-Scienc')\n",
    "print(result)"
   ]
  },
  {
   "cell_type": "markdown",
   "metadata": {},
   "source": [
    "Return the first two character of each word\n",
    "\n",
    "\n",
    "Extract consecutive two characters of each word, excluding spaces (using “\\w“)\n"
   ]
  },
  {
   "cell_type": "code",
   "execution_count": 9,
   "metadata": {},
   "outputs": [
    {
     "name": "stdout",
     "output_type": "stream",
     "text": [
      "['am', 'st', 'ud', 'en', 'of', 'Da', 'ta', 'Sc', 'ie', 'nc']\n"
     ]
    }
   ],
   "source": [
    "result=re.findall(r'\\w\\w','I am  a student of Data-Scienc')\n",
    "print(result)"
   ]
  },
  {
   "cell_type": "markdown",
   "metadata": {},
   "source": [
    "Extract consecutive two characters those available at start of word boundary (using “\\b“)"
   ]
  },
  {
   "cell_type": "code",
   "execution_count": 11,
   "metadata": {},
   "outputs": [
    {
     "name": "stdout",
     "output_type": "stream",
     "text": [
      "['I ', 'am', 'a ', 'st', 'of', 'Da', 'Sc']\n"
     ]
    }
   ],
   "source": [
    "result = re.findall(r'\\b\\w.', 'I am a student of Data-Science')\n",
    "print(result)"
   ]
  },
  {
   "cell_type": "markdown",
   "metadata": {},
   "source": [
    "### Return the domain type of given email-ids\n",
    "\n",
    "Extract all characters after “@”"
   ]
  },
  {
   "cell_type": "code",
   "execution_count": 12,
   "metadata": {},
   "outputs": [
    {
     "name": "stdout",
     "output_type": "stream",
     "text": [
      "['@gmail', '@test', '@analyticsvidhya', '@rest']\n"
     ]
    }
   ],
   "source": [
    "result=re.findall(r'@\\w+','abc.test@gmail.com, xyz@test.in, test.first@analyticsvidhya.com, first.test@rest.biz') \n",
    "print(result) "
   ]
  },
  {
   "cell_type": "markdown",
   "metadata": {},
   "source": [
    "Above, you can see that “.com”, “.in” part is not extracted. To add it, we will go with below code."
   ]
  },
  {
   "cell_type": "code",
   "execution_count": 13,
   "metadata": {},
   "outputs": [
    {
     "name": "stdout",
     "output_type": "stream",
     "text": [
      "['@gmail.com', '@test.in', '@analyticsvidhya.com', '@rest.biz']\n"
     ]
    }
   ],
   "source": [
    "result=re.findall(r'@\\w+.\\w+','abc.test@gmail.com, xyz@test.in, test.first@analyticsvidhya.com, first.test@rest.biz')\n",
    "print(result)"
   ]
  },
  {
   "cell_type": "markdown",
   "metadata": {},
   "source": [
    "Extract only domain name using “( )”"
   ]
  },
  {
   "cell_type": "code",
   "execution_count": 14,
   "metadata": {},
   "outputs": [
    {
     "name": "stdout",
     "output_type": "stream",
     "text": [
      "['com', 'in', 'com', 'biz']\n"
     ]
    }
   ],
   "source": [
    "result=re.findall(r'@\\w+.(\\w+)','abc.test@gmail.com, xyz@test.in, test.first@analyticsvidhya.com, first.test@rest.biz')\n",
    "print(result)"
   ]
  },
  {
   "cell_type": "markdown",
   "metadata": {},
   "source": [
    "### Return date from given string\n",
    "\n",
    "Here we will use “\\d” to extract digit."
   ]
  },
  {
   "cell_type": "code",
   "execution_count": 15,
   "metadata": {},
   "outputs": [
    {
     "name": "stdout",
     "output_type": "stream",
     "text": [
      "['12-05-2007', '11-11-2011', '12-01-2009']\n"
     ]
    }
   ],
   "source": [
    "result=re.findall(r'\\d{2}-\\d{2}-\\d{4}','Amit 34-3456 12-05-2007, XYZ 56-4532 11-11-2011, ABC 67-8945 12-01-2009')\n",
    "print(result)"
   ]
  },
  {
   "cell_type": "markdown",
   "metadata": {},
   "source": [
    "If you want to extract only year again parenthesis “( )” will help you."
   ]
  },
  {
   "cell_type": "code",
   "execution_count": 16,
   "metadata": {},
   "outputs": [
    {
     "name": "stdout",
     "output_type": "stream",
     "text": [
      "['2007', '2011', '2009']\n"
     ]
    }
   ],
   "source": [
    "result=re.findall(r'\\d{2}-\\d{2}-(\\d{4})','Amit 34-3456 12-05-2007, XYZ 56-4532 11-11-2011, ABC 67-8945 12-01-2009')\n",
    "print(result)"
   ]
  },
  {
   "cell_type": "markdown",
   "metadata": {},
   "source": [
    "### Return all words of a string those starts with vowel\n",
    "\n",
    "Return each words"
   ]
  },
  {
   "cell_type": "code",
   "execution_count": 17,
   "metadata": {},
   "outputs": [
    {
     "name": "stdout",
     "output_type": "stream",
     "text": [
      "['I', 'am', 'a', 'student', 'of', 'Data', 'Science']\n"
     ]
    }
   ],
   "source": [
    "result = re.findall(r'\\w+', 'I am a student of Data-Science')\n",
    "print(result)"
   ]
  },
  {
   "cell_type": "markdown",
   "metadata": {},
   "source": [
    " Return words starts with alphabets (using [])"
   ]
  },
  {
   "cell_type": "code",
   "execution_count": 19,
   "metadata": {},
   "outputs": [
    {
     "name": "stdout",
     "output_type": "stream",
     "text": [
      "['I', 'am', 'a', 'udent', 'of', 'ata', 'ience']\n"
     ]
    }
   ],
   "source": [
    "result = re.findall(r'[aeiouAEIOU]\\w*', 'I am a student of Data-Science')\n",
    "print(result)"
   ]
  },
  {
   "cell_type": "code",
   "execution_count": 20,
   "metadata": {},
   "outputs": [
    {
     "name": "stdout",
     "output_type": "stream",
     "text": [
      "['am', 'udent', 'of', 'ata', 'ience']\n"
     ]
    }
   ],
   "source": [
    "result = re.findall(r'[aeiouAEIOU]\\w+', 'I am a student of Data-Science')\n",
    "print(result)"
   ]
  },
  {
   "cell_type": "code",
   "execution_count": 21,
   "metadata": {},
   "outputs": [
    {
     "name": "stdout",
     "output_type": "stream",
     "text": [
      "['am', 'of']\n"
     ]
    }
   ],
   "source": [
    "result = re.findall(r'\\b[aeiouAEIOU]\\w+', 'I am a student of Data-Science')\n",
    "print(result)"
   ]
  },
  {
   "cell_type": "code",
   "execution_count": 24,
   "metadata": {},
   "outputs": [
    {
     "name": "stdout",
     "output_type": "stream",
     "text": [
      "[' am', ' a', ' student', ' of', ' Data', '-Science']\n"
     ]
    }
   ],
   "source": [
    "result = re.findall(r'\\b[^aeiouAEIOU]\\w+', 'I am a student of Data-Science')\n",
    "print(result)"
   ]
  },
  {
   "cell_type": "markdown",
   "metadata": {},
   "source": [
    "Above you can see that it has returned words starting with space. To drop it from output, include space in square bracket[]."
   ]
  },
  {
   "cell_type": "code",
   "execution_count": 23,
   "metadata": {},
   "outputs": [
    {
     "name": "stdout",
     "output_type": "stream",
     "text": [
      "['student', 'Data', '-Science']\n"
     ]
    }
   ],
   "source": [
    "result = re.findall(r'\\b[^aeiouAEIOU ]\\w+', 'I am a student of Data-Science')\n",
    "print(result)"
   ]
  },
  {
   "cell_type": "markdown",
   "metadata": {},
   "source": [
    "### Validate a phone number (phone number must be of 10 digits and starts with 8 or 9) "
   ]
  },
  {
   "cell_type": "code",
   "execution_count": 25,
   "metadata": {},
   "outputs": [
    {
     "name": "stdout",
     "output_type": "stream",
     "text": [
      "yes\n",
      "no\n",
      "no\n"
     ]
    }
   ],
   "source": [
    "import re\n",
    "li=['9999999999','999999-999','99999x9999']\n",
    "for val in li:\n",
    " if re.match(r'[8-9]{1}[0-9]{9}',val) and len(val) == 10:\n",
    "     print('yes')\n",
    " else:\n",
    "     print('no')"
   ]
  },
  {
   "cell_type": "markdown",
   "metadata": {},
   "source": [
    "### Split a string with multiple delimiters"
   ]
  },
  {
   "cell_type": "code",
   "execution_count": 26,
   "metadata": {},
   "outputs": [
    {
     "name": "stdout",
     "output_type": "stream",
     "text": [
      "['asdf', 'fjdk', 'afed', 'fjek', 'asdf', 'foo']\n"
     ]
    }
   ],
   "source": [
    "import re\n",
    "line = 'asdf fjdk;afed,fjek,asdf,foo' # String has multiple delimiters (\";\",\",\",\" \").\n",
    "result= re.split(r'[;,\\s]', line)\n",
    "print(result)"
   ]
  },
  {
   "cell_type": "markdown",
   "metadata": {},
   "source": [
    "We can also use method re.sub() to replace these multiple delimiters with one as space ” “."
   ]
  },
  {
   "cell_type": "code",
   "execution_count": 27,
   "metadata": {},
   "outputs": [
    {
     "name": "stdout",
     "output_type": "stream",
     "text": [
      "asdf fjdk afed fjek asdf foo\n"
     ]
    }
   ],
   "source": [
    "import re\n",
    "line = 'asdf fjdk;afed,fjek,asdf,foo'\n",
    "result= re.sub(r'[;,\\s]',' ', line)\n",
    "print(result)\n"
   ]
  },
  {
   "cell_type": "markdown",
   "metadata": {},
   "source": [
    "### Retrieve Information from HTML file\n",
    "\n"
   ]
  },
  {
   "cell_type": "code",
   "execution_count": null,
   "metadata": {},
   "outputs": [],
   "source": []
  },
  {
   "cell_type": "code",
   "execution_count": null,
   "metadata": {},
   "outputs": [],
   "source": []
  }
 ],
 "metadata": {
  "kernelspec": {
   "display_name": "Python 3",
   "language": "python",
   "name": "python3"
  },
  "language_info": {
   "codemirror_mode": {
    "name": "ipython",
    "version": 3
   },
   "file_extension": ".py",
   "mimetype": "text/x-python",
   "name": "python",
   "nbconvert_exporter": "python",
   "pygments_lexer": "ipython3",
   "version": "3.7.3"
  }
 },
 "nbformat": 4,
 "nbformat_minor": 2
}
